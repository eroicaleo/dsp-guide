{
 "cells": [
  {
   "cell_type": "markdown",
   "id": "38aaff23-e727-4a7b-a072-b9a3b8c720bc",
   "metadata": {},
   "source": [
    "# Library used"
   ]
  },
  {
   "cell_type": "markdown",
   "id": "160a1802-72ac-44b2-88e2-c33ac05114ca",
   "metadata": {},
   "source": [
    "## General libs"
   ]
  },
  {
   "cell_type": "code",
   "execution_count": null,
   "id": "884b8b89-d458-48f5-a3fc-c7f77b11e399",
   "metadata": {},
   "outputs": [],
   "source": [
    "from scipy.fft import fft, fftfreq, ifft\n",
    "import numpy as np\n",
    "import matplotlib.pyplot as plt"
   ]
  },
  {
   "cell_type": "markdown",
   "id": "1241bbf9-e535-45d5-b271-344ee478f1b6",
   "metadata": {},
   "source": [
    "# Using FFT"
   ]
  },
  {
   "cell_type": "markdown",
   "id": "baa3ebff-2b87-44db-ae19-70754d0140cb",
   "metadata": {},
   "source": [
    "* To create a sine wave and apply FFT"
   ]
  },
  {
   "cell_type": "code",
   "execution_count": null,
   "id": "db118fe7-2014-4990-826c-41ce357e8952",
   "metadata": {},
   "outputs": [],
   "source": [
    "fs = 8000  # Sampling rate in Hz\n",
    "n = np.arange(0, 8, 1)  # Time vector\n",
    "ts = 1.0 / fs\n",
    "# Signal with 1000 Hz and 2000 Hz components\n",
    "x = 1.0*np.sin(2*np.pi*1000*n*ts) + 0.5*np.sin(2*np.pi*2000*n*ts + (3/4)*np.pi)\n",
    "X = fft(x)"
   ]
  },
  {
   "cell_type": "markdown",
   "id": "408824c4-f308-4ca8-9c7a-a4f66afdcb87",
   "metadata": {},
   "source": [
    "* To round the results, We use `np.around` function."
   ]
  },
  {
   "cell_type": "code",
   "execution_count": null,
   "id": "364d126a-b907-4c89-bab0-981c07b1516e",
   "metadata": {},
   "outputs": [],
   "source": [
    "np.around(X,4)"
   ]
  },
  {
   "cell_type": "markdown",
   "id": "5513d7c0-d74a-4698-836d-ba66c39563e0",
   "metadata": {},
   "source": [
    "* To get the magnitude, we use `np.absolute`"
   ]
  },
  {
   "cell_type": "code",
   "execution_count": null,
   "id": "72000b33-ff44-4cbe-bea9-e7149e592003",
   "metadata": {},
   "outputs": [],
   "source": [
    "X_m = np.absolute(X)\n",
    "np.around(X_m)"
   ]
  },
  {
   "cell_type": "markdown",
   "id": "ab2bfec6-7589-40cc-854d-0a8164daf5d8",
   "metadata": {},
   "source": [
    "* Then we can plot it"
   ]
  },
  {
   "cell_type": "code",
   "execution_count": null,
   "id": "6c7d2b6b-7d59-4df7-98d7-31c0ca0918d6",
   "metadata": {},
   "outputs": [],
   "source": [
    "plt.xlabel('m');\n",
    "plt.ylabel(r'$|X[m]|$');\n",
    "plt.title(r'Plot of DT signal $|X(m)|$');\n",
    "plt.stem(n, X_m)"
   ]
  },
  {
   "cell_type": "markdown",
   "id": "a8df52bc-795d-4e3c-a731-7157657510bb",
   "metadata": {},
   "source": [
    "* To change the xtick/ytick, we use `plt.xticks` and `plt.yticks`."
   ]
  },
  {
   "cell_type": "code",
   "execution_count": null,
   "id": "516fd459-a170-4730-a7c4-0c5c6e87c922",
   "metadata": {},
   "outputs": [],
   "source": [
    "plt.xlabel('m');\n",
    "plt.ylabel(r'$|X[m]|$');\n",
    "plt.title(r'Plot of DT signal $|X(m)|$');\n",
    "plt.stem(n, X_m)\n",
    "plt.xticks([0, 2, 4, 6], ['0', '2', '4', '6'])"
   ]
  }
 ],
 "metadata": {
  "kernelspec": {
   "display_name": "Python 3 (ipykernel)",
   "language": "python",
   "name": "python3"
  },
  "language_info": {
   "codemirror_mode": {
    "name": "ipython",
    "version": 3
   },
   "file_extension": ".py",
   "mimetype": "text/x-python",
   "name": "python",
   "nbconvert_exporter": "python",
   "pygments_lexer": "ipython3",
   "version": "3.13.7"
  }
 },
 "nbformat": 4,
 "nbformat_minor": 5
}
