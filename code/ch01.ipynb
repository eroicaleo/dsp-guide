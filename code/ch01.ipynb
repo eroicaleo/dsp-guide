{
 "cells": [
  {
   "cell_type": "code",
   "execution_count": null,
   "id": "a26a92cd",
   "metadata": {},
   "outputs": [],
   "source": [
    "import numpy as np\n",
    "import matplotlib.pyplot as plt"
   ]
  },
  {
   "cell_type": "code",
   "execution_count": null,
   "id": "9ac7ff13",
   "metadata": {},
   "outputs": [],
   "source": [
    "# 1.5.(a)\n",
    "\n",
    "n = np.arange(10);\n",
    "fs = 2.0\n",
    "fo = fs / 2.0\n",
    "ts = 1.0 / fs\n",
    "x = np.cos(2 * np.pi * fo * n * ts)\n",
    "plt.xlabel('n');\n",
    "plt.ylabel('x[n]');\n",
    "plt.title(r'Plot of DT signal $x[n] = \\cos (2\\pi 1.0 n \\Delta t)$');\n",
    "plt.stem(n, x);"
   ]
  },
  {
   "cell_type": "code",
   "execution_count": null,
   "id": "170a1cb6",
   "metadata": {},
   "outputs": [],
   "source": [
    "# 1.5.(b)\n",
    "\n",
    "n = np.arange(10);\n",
    "fs = 2.0\n",
    "fo = fs / 4.0\n",
    "ts = 1.0 / fs\n",
    "x = np.cos(2 * np.pi * fo * n * ts)\n",
    "plt.xlabel('n');\n",
    "plt.ylabel('x[n]');\n",
    "plt.title(r'Plot of DT signal $x[n] = \\cos (2\\pi 0.5 n \\Delta t)$');\n",
    "plt.stem(n, x);"
   ]
  },
  {
   "cell_type": "code",
   "execution_count": null,
   "id": "60dd0a8e",
   "metadata": {},
   "outputs": [],
   "source": [
    "# 1.5.(c)\n",
    "\n",
    "n = np.arange(10);\n",
    "fs = 2.0\n",
    "fo = 0\n",
    "ts = 1.0 / fs\n",
    "x = np.cos(2 * np.pi * fo * n * ts)\n",
    "plt.xlabel('n');\n",
    "plt.ylabel('x[n]');\n",
    "plt.title(r'Plot of DT signal $x[n] = \\cos (2\\pi 0 n t_s)$');\n",
    "plt.stem(n, x);"
   ]
  },
  {
   "cell_type": "code",
   "execution_count": null,
   "id": "beaf4b27",
   "metadata": {},
   "outputs": [],
   "source": [
    "# 1.7.(a)\n",
    "\n",
    "n = np.arange(10);\n",
    "fs = 2.0\n",
    "fo = fs / 2.0\n",
    "ts = 1.0 / fs\n",
    "x = np.sin(2 * np.pi * fo * n * ts)\n",
    "plt.xlabel('n');\n",
    "plt.ylabel('x[n]');\n",
    "plt.title(r'Plot of DT signal $x[n] = \\sin (2\\pi 1.0 n 0.5)$');\n",
    "plt.stem(n, x);\n",
    "plt.ylim(-1, 1)"
   ]
  },
  {
   "cell_type": "code",
   "execution_count": null,
   "id": "8a830105",
   "metadata": {},
   "outputs": [],
   "source": [
    "# 1.7.(b)\n",
    "\n",
    "n = np.arange(10);\n",
    "fs = 2.0\n",
    "fo = fs / 4.0\n",
    "ts = 1.0 / fs\n",
    "x = np.sin(2 * np.pi * fo * n * ts)\n",
    "plt.xlabel('n');\n",
    "plt.ylabel('x[n]');\n",
    "plt.title(r'Plot of DT signal $x[n] = \\sin (2\\pi 2.0 n 0.5)$');\n",
    "plt.stem(n, x);"
   ]
  },
  {
   "cell_type": "code",
   "execution_count": null,
   "id": "620304f7",
   "metadata": {},
   "outputs": [],
   "source": [
    "# 1.7.(c)\n",
    "\n",
    "n = np.arange(10);\n",
    "fs = 2.0\n",
    "fo = 0\n",
    "ts = 1.0 / fs\n",
    "x = np.sin(2 * np.pi * fo * n * ts)\n",
    "plt.xlabel('n');\n",
    "plt.ylabel('x[n]');\n",
    "plt.title(r'Plot of DT signal $x[n] = \\sin (2\\pi 0.0 n 0.5)$');\n",
    "plt.stem(n, x);"
   ]
  },
  {
   "cell_type": "code",
   "execution_count": null,
   "id": "14df098d",
   "metadata": {},
   "outputs": [],
   "source": [
    "# 1.8\n",
    "\n",
    "n = np.arange(7);\n",
    "nz = np.arange(0, 7, 0.01);\n",
    "fs = 4\n",
    "fo = 1\n",
    "ts = 1.0 / fs\n",
    "x = -np.sin(2 * np.pi * fo * n * ts)\n",
    "z = -np.sin(2 * np.pi * fo * nz * ts)\n",
    "\n",
    "plt.xlabel('n');\n",
    "plt.ylabel('$x_{shift}[n]$');\n",
    "plt.title(r'Plot of DT signal $x[n] = \\sin (2\\pi 1.0 n 0.25)$');\n",
    "plt.plot(n, x, 'o');\n",
    "plt.plot(nz, z, '--');\n",
    "plt.show()"
   ]
  }
 ],
 "metadata": {
  "kernelspec": {
   "display_name": "Python 3 (ipykernel)",
   "language": "python",
   "name": "python3"
  },
  "language_info": {
   "codemirror_mode": {
    "name": "ipython",
    "version": 3
   },
   "file_extension": ".py",
   "mimetype": "text/x-python",
   "name": "python",
   "nbconvert_exporter": "python",
   "pygments_lexer": "ipython3",
   "version": "3.11.3"
  }
 },
 "nbformat": 4,
 "nbformat_minor": 5
}
