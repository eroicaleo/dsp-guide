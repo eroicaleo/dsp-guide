{
 "cells": [
  {
   "cell_type": "code",
   "execution_count": null,
   "id": "a26a92cd",
   "metadata": {},
   "outputs": [],
   "source": [
    "import numpy as np\n",
    "import matplotlib.pyplot as plt"
   ]
  },
  {
   "cell_type": "code",
   "execution_count": null,
   "id": "9ac7ff13",
   "metadata": {},
   "outputs": [],
   "source": [
    "# 1.5.(a)\n",
    "\n",
    "n = np.arange(10);\n",
    "fs = 2.0\n",
    "fo = fs / 2.0\n",
    "ts = 1.0 / fs\n",
    "x = np.cos(2 * np.pi * fo * n * ts)\n",
    "plt.xlabel('n');\n",
    "plt.ylabel('x[n]');\n",
    "plt.title(r'Plot of DT signal $x[n] = \\cos (2\\pi 1.0 n \\Delta t)$');\n",
    "plt.stem(n, x);"
   ]
  },
  {
   "cell_type": "code",
   "execution_count": null,
   "id": "170a1cb6",
   "metadata": {},
   "outputs": [],
   "source": [
    "# 1.5.(b)\n",
    "\n",
    "n = np.arange(10);\n",
    "fs = 2.0\n",
    "fo = fs / 4.0\n",
    "ts = 1.0 / fs\n",
    "x = np.cos(2 * np.pi * fo * n * ts)\n",
    "plt.xlabel('n');\n",
    "plt.ylabel('x[n]');\n",
    "plt.title(r'Plot of DT signal $x[n] = \\cos (2\\pi 0.5 n \\Delta t)$');\n",
    "plt.stem(n, x);"
   ]
  },
  {
   "cell_type": "code",
   "execution_count": null,
   "id": "60dd0a8e",
   "metadata": {},
   "outputs": [],
   "source": [
    "# 1.5.(c)\n",
    "\n",
    "n = np.arange(10);\n",
    "fs = 2.0\n",
    "fo = 0\n",
    "ts = 1.0 / fs\n",
    "x = np.cos(2 * np.pi * fo * n * ts)\n",
    "plt.xlabel('n');\n",
    "plt.ylabel('x[n]');\n",
    "plt.title(r'Plot of DT signal $x[n] = \\cos (2\\pi 0 n t_s)$');\n",
    "plt.stem(n, x);"
   ]
  },
  {
   "cell_type": "code",
   "execution_count": null,
   "id": "beaf4b27",
   "metadata": {},
   "outputs": [],
   "source": [
    "# 1.7.(a)\n",
    "\n",
    "n = np.arange(10);\n",
    "fs = 2.0\n",
    "fo = fs / 2.0\n",
    "ts = 1.0 / fs\n",
    "x = np.sin(2 * np.pi * fo * n * ts)\n",
    "plt.xlabel('n');\n",
    "plt.ylabel('x[n]');\n",
    "plt.title(r'Plot of DT signal $x[n] = \\sin (2\\pi 1.0 n 0.5)$');\n",
    "plt.stem(n, x);\n",
    "plt.ylim(-1, 1)"
   ]
  },
  {
   "cell_type": "code",
   "execution_count": null,
   "id": "8a830105",
   "metadata": {},
   "outputs": [],
   "source": [
    "# 1.7.(b)\n",
    "\n",
    "n = np.arange(10);\n",
    "fs = 2.0\n",
    "fo = fs / 4.0\n",
    "ts = 1.0 / fs\n",
    "x = np.sin(2 * np.pi * fo * n * ts)\n",
    "plt.xlabel('n');\n",
    "plt.ylabel('x[n]');\n",
    "plt.title(r'Plot of DT signal $x[n] = \\sin (2\\pi 2.0 n 0.5)$');\n",
    "plt.stem(n, x);"
   ]
  },
  {
   "cell_type": "code",
   "execution_count": null,
   "id": "620304f7",
   "metadata": {},
   "outputs": [],
   "source": [
    "# 1.7.(c)\n",
    "\n",
    "n = np.arange(10);\n",
    "fs = 2.0\n",
    "fo = 0\n",
    "ts = 1.0 / fs\n",
    "x = np.sin(2 * np.pi * fo * n * ts)\n",
    "plt.xlabel('n');\n",
    "plt.ylabel('x[n]');\n",
    "plt.title(r'Plot of DT signal $x[n] = \\sin (2\\pi 0.0 n 0.5)$');\n",
    "plt.stem(n, x);"
   ]
  },
  {
   "cell_type": "code",
   "execution_count": null,
   "id": "14df098d",
   "metadata": {},
   "outputs": [],
   "source": [
    "# 1.8\n",
    "\n",
    "n = np.arange(7);\n",
    "nz = np.arange(0, 7, 0.01);\n",
    "fs = 4\n",
    "fo = 1\n",
    "ts = 1.0 / fs\n",
    "x = -np.sin(2 * np.pi * fo * n * ts)\n",
    "z = -np.sin(2 * np.pi * fo * nz * ts)\n",
    "\n",
    "plt.xlabel('n');\n",
    "plt.ylabel('$x_{shift}[n]$');\n",
    "plt.title(r'Plot of DT signal $x[n] = \\sin (2\\pi 1.0 n 0.25)$');\n",
    "plt.plot(n, x, 'o');\n",
    "plt.plot(nz, z, '--');\n",
    "plt.show()"
   ]
  },
  {
   "cell_type": "code",
   "execution_count": null,
   "id": "bf3f9d74",
   "metadata": {},
   "outputs": [],
   "source": [
    "# 1.12\n",
    "\n",
    "n = np.arange(-5, 10);\n",
    "x = 0.0*n\n",
    "for i in range(5, 10):\n",
    "    x[i] = 0.2\n",
    "plt.xlabel('n');\n",
    "plt.ylabel('y[n]');\n",
    "plt.title(r'Plot of impulse response signal $y[n] = \\sum_{k = n-4}^{n} \\frac{x(k)}{5}$');\n",
    "plt.stem(n, x);"
   ]
  },
  {
   "cell_type": "code",
   "execution_count": null,
   "id": "ca95204b",
   "metadata": {},
   "outputs": [],
   "source": [
    "# 1.21 (a)\n",
    "\n",
    "n = np.arange(-5, 10);\n",
    "x = 0.0*n\n",
    "x[5 + 0] = 1.0\n",
    "x[5 + 4] = -1.0\n",
    "plt.xlabel('n');\n",
    "plt.ylabel('y[n]');\n",
    "plt.title(r'Plot of impulse response signal $y[n] = x[n] - x[n-4]$');\n",
    "plt.stem(n, x);"
   ]
  },
  {
   "cell_type": "code",
   "execution_count": null,
   "id": "479e0ad9",
   "metadata": {},
   "outputs": [],
   "source": [
    "# 1.21 (b)\n",
    "\n",
    "n = np.arange(-5, 6);\n",
    "x = 0.0*n\n",
    "x[5 + 0] = 1.0\n",
    "print(x)\n",
    "y = 0.0*n\n",
    "for i in range(1, len(x)):\n",
    "    y[i] = x[i] + y[i-1]\n",
    "    # print(f'i = {i}, x[i] = {x[i]}, y[i-1] = {y[i-1]}, y[i] = {y[i]}')\n",
    "plt.xlabel('n');\n",
    "plt.ylabel('y[n]');\n",
    "plt.title(r'Plot of impulse response signal $y[n] = x[n] + y[n-1]$');\n",
    "plt.stem(n, y);"
   ]
  },
  {
   "cell_type": "code",
   "execution_count": null,
   "id": "c29e372c",
   "metadata": {},
   "outputs": [],
   "source": [
    "# 1.21 (c)\n",
    "\n",
    "n = np.arange(-5, 6);\n",
    "x = 0.0*n\n",
    "x[5 + 0] = 1.0\n",
    "# print(x)\n",
    "y = 0.0*n\n",
    "for i in range(1, len(x)):\n",
    "    y[i] = 0.5 * x[i] + (1 - 0.5) * y[i-1]\n",
    "    # print(f'i = {i}, x[i] = {x[i]}, y[i-1] = {y[i-1]}, y[i] = {y[i]}')\n",
    "plt.xlabel('n');\n",
    "plt.ylabel('y[n]');\n",
    "plt.title(r'Plot of impulse response signal $y[n] = A \\cdot x[n] + (1-A) \\cdot y[n-1]$');\n",
    "plt.stem(n, y);"
   ]
  },
  {
   "cell_type": "code",
   "execution_count": null,
   "id": "25a1fee3",
   "metadata": {},
   "outputs": [],
   "source": [
    "# 1.21 (d)\n",
    "\n",
    "n = np.arange(-5, 6);\n",
    "x = 0.0*n\n",
    "x[5 + 0] = 1.0\n",
    "# print(x)\n",
    "y = 0.0*n\n",
    "for i in range(2, len(x)):\n",
    "    y[i] = 0.5 * (x[i] - x[i-2])\n",
    "    # print(f'i = {i}, x[i] = {x[i]}, x[i-2] = {x[i-2]}, y[i] = {y[i]}')\n",
    "plt.xlabel('n');\n",
    "plt.ylabel('y[n]');\n",
    "plt.title(r'Plot of impulse response signal $y[n] = 0.5 x[n] - 0.5 x[n-2]$');\n",
    "plt.stem(n, y);"
   ]
  },
  {
   "cell_type": "code",
   "execution_count": null,
   "id": "86597dd5",
   "metadata": {},
   "outputs": [],
   "source": [
    "# 1.22 (a)\n",
    "\n",
    "n = np.arange(-5, 8);\n",
    "x = 0.0*n\n",
    "x[5 + 0] = 1.0\n",
    "# print(x)\n",
    "y = 0.0*n\n",
    "for i in range(4, len(x)):\n",
    "    y[i] = x[i] - x[i-4]\n",
    "    # print(f'i = {i}, x[i] = {x[i]}, y[i-1] = {y[i-1]}, y[i] = {y[i]}')\n",
    "y_step = np.cumsum(y)\n",
    "plt.xlabel('n');\n",
    "plt.ylabel(r'y[n]');\n",
    "plt.title(r'Plot of step response signal $y[n] = x[n] - x[n-4]$');\n",
    "plt.stem(n, y_step);"
   ]
  },
  {
   "cell_type": "code",
   "execution_count": null,
   "id": "8f4be788",
   "metadata": {},
   "outputs": [],
   "source": [
    "# 1.22 (b)\n",
    "\n",
    "n = np.arange(-5, 8);\n",
    "x = 0.0*n\n",
    "x[5 + 0] = 1.0\n",
    "# print(x)\n",
    "y = 0.0*n\n",
    "for i in range(1, len(x)):\n",
    "    y[i] = x[i] + y[i-1]\n",
    "    # print(f'i = {i}, x[i] = {x[i]}, y[i-1] = {y[i-1]}, y[i] = {y[i]}')\n",
    "y_step = np.cumsum(y)\n",
    "plt.xlabel('n');\n",
    "plt.ylabel(r'y[n]');\n",
    "plt.title(r'Plot of step response signal $y[n] = x[n] - x[n-4]$');\n",
    "plt.stem(n, y_step);"
   ]
  },
  {
   "cell_type": "code",
   "execution_count": null,
   "id": "a795a72c",
   "metadata": {},
   "outputs": [],
   "source": [
    "# 1.22 (c)\n",
    "\n",
    "n = np.arange(-5, 8);\n",
    "x = 0.0*n\n",
    "x[5 + 0] = 1.0\n",
    "# print(x)\n",
    "y = 0.0*n\n",
    "for i in range(1, len(x)):\n",
    "    y[i] = 0.5 * x[i] + (1 - 0.5) * y[i-1]\n",
    "    # print(f'i = {i}, x[i] = {x[i]}, y[i-1] = {y[i-1]}, y[i] = {y[i]}')\n",
    "y_step = np.cumsum(y)\n",
    "plt.xlabel('n');\n",
    "plt.ylabel(r'y[n]');\n",
    "plt.title(r'Plot of step response signal $y[n] = A \\cdot x[n] + (1-A) \\cdot y[n-1]$');\n",
    "plt.stem(n, y_step);"
   ]
  },
  {
   "cell_type": "code",
   "execution_count": null,
   "id": "ba5e9c78",
   "metadata": {},
   "outputs": [],
   "source": [
    "# 1.22 (d)\n",
    "\n",
    "n = np.arange(-5, 8);\n",
    "x = 0.0*n\n",
    "x[5 + 0] = 1.0\n",
    "# print(x)\n",
    "y = 0.0*n\n",
    "for i in range(2, len(x)):\n",
    "    y[i] = 0.5 * (x[i] - x[i-2])\n",
    "    # print(f'i = {i}, x[i] = {x[i]}, y[i-1] = {y[i-1]}, y[i] = {y[i]}')\n",
    "y_step = np.cumsum(y)\n",
    "plt.xlabel('n');\n",
    "plt.ylabel(r'y[n]');\n",
    "plt.title(r'Plot of step response signal $y[n] = 0.5 x[n] - 0.5 x[n-2]$');\n",
    "plt.stem(n, y_step);"
   ]
  },
  {
   "cell_type": "code",
   "execution_count": null,
   "id": "2290a9ad",
   "metadata": {},
   "outputs": [],
   "source": [
    "# 1.23\n",
    "\n",
    "t = np.arange(-2, 4, 0.01)\n",
    "A = 1\n",
    "y = np.zeros_like(t)\n",
    "start = 3\n",
    "end = 10\n",
    "for k in range(start, end, 2):\n",
    "    y = y + np.sin(2 * np.pi * k * t) / k\n",
    "y = 4 * A / (np.pi) * y\n",
    "plt.xlabel('t');\n",
    "plt.ylabel(r'y');\n",
    "plt.title(r'Plot of s(t) w/o lowest-freq. component.');\n",
    "plt.plot(t, y);"
   ]
  }
 ],
 "metadata": {
  "kernelspec": {
   "display_name": "Python 3 (ipykernel)",
   "language": "python",
   "name": "python3"
  },
  "language_info": {
   "codemirror_mode": {
    "name": "ipython",
    "version": 3
   },
   "file_extension": ".py",
   "mimetype": "text/x-python",
   "name": "python",
   "nbconvert_exporter": "python",
   "pygments_lexer": "ipython3",
   "version": "3.11.3"
  }
 },
 "nbformat": 4,
 "nbformat_minor": 5
}
