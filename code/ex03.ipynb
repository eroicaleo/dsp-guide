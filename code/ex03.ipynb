{
 "cells": [
  {
   "cell_type": "code",
   "execution_count": 1,
   "id": "2b4ad4f0",
   "metadata": {},
   "outputs": [],
   "source": [
    "from scipy.fft import fft, fftfreq, ifft\n",
    "import numpy as np"
   ]
  },
  {
   "cell_type": "markdown",
   "id": "5b0a806e",
   "metadata": {},
   "source": [
    "# 3.5"
   ]
  },
  {
   "cell_type": "code",
   "execution_count": 2,
   "id": "cc5537d6",
   "metadata": {},
   "outputs": [],
   "source": [
    "N = 8"
   ]
  },
  {
   "cell_type": "code",
   "execution_count": 3,
   "id": "ea0f0521",
   "metadata": {},
   "outputs": [],
   "source": [
    "x = np.array([9]*N)"
   ]
  },
  {
   "cell_type": "code",
   "execution_count": 4,
   "id": "ffdd974d",
   "metadata": {},
   "outputs": [],
   "source": [
    "X = fft(x)"
   ]
  },
  {
   "cell_type": "code",
   "execution_count": 5,
   "id": "39002b5e",
   "metadata": {},
   "outputs": [
    {
     "data": {
      "text/plain": [
       "array([72.-0.j,  0.+0.j,  0.-0.j,  0.+0.j,  0.-0.j,  0.-0.j,  0.+0.j,\n",
       "        0.-0.j])"
      ]
     },
     "execution_count": 5,
     "metadata": {},
     "output_type": "execute_result"
    }
   ],
   "source": [
    "X"
   ]
  },
  {
   "cell_type": "code",
   "execution_count": 6,
   "id": "e098f0d3",
   "metadata": {},
   "outputs": [
    {
     "data": {
      "text/plain": [
       "array([1, 0, 0, 0, 0, 0, 0, 0])"
      ]
     },
     "execution_count": 6,
     "metadata": {},
     "output_type": "execute_result"
    }
   ],
   "source": [
    "x = np.array([0]*N)\n",
    "x[0] = 1\n",
    "x"
   ]
  },
  {
   "cell_type": "code",
   "execution_count": 8,
   "id": "dd79855a",
   "metadata": {},
   "outputs": [
    {
     "data": {
      "text/plain": [
       "array([1.-0.j, 1.+0.j, 1.-0.j, 1.+0.j, 1.-0.j, 1.-0.j, 1.+0.j, 1.-0.j])"
      ]
     },
     "execution_count": 8,
     "metadata": {},
     "output_type": "execute_result"
    }
   ],
   "source": [
    "X = fft(x)\n",
    "X"
   ]
  },
  {
   "cell_type": "code",
   "execution_count": 9,
   "id": "1fc4764c",
   "metadata": {},
   "outputs": [
    {
     "data": {
      "text/plain": [
       "array([0, 1, 0, 0, 0, 0, 0, 0])"
      ]
     },
     "execution_count": 9,
     "metadata": {},
     "output_type": "execute_result"
    }
   ],
   "source": [
    "x_3 = np.roll(x, 1)\n",
    "x_3"
   ]
  },
  {
   "cell_type": "code",
   "execution_count": 10,
   "id": "88c2292c",
   "metadata": {},
   "outputs": [
    {
     "data": {
      "text/plain": [
       "array([ 1.        -0.j        ,  0.70710678-0.70710678j,\n",
       "        0.        -1.j        , -0.70710678-0.70710678j,\n",
       "       -1.        -0.j        , -0.70710678+0.70710678j,\n",
       "        0.        +1.j        ,  0.70710678+0.70710678j])"
      ]
     },
     "execution_count": 10,
     "metadata": {},
     "output_type": "execute_result"
    }
   ],
   "source": [
    "X_3 = fft(x_3)\n",
    "X_3"
   ]
  },
  {
   "cell_type": "markdown",
   "id": "6c3d1dbc",
   "metadata": {},
   "source": [
    "# 3.6"
   ]
  },
  {
   "cell_type": "code",
   "execution_count": 17,
   "id": "04146715",
   "metadata": {},
   "outputs": [
    {
     "data": {
      "text/plain": [
       "array([ 1.4142, -2.    ,  1.4142,  0.    , -1.4142,  2.    , -1.4142,\n",
       "       -0.    ])"
      ]
     },
     "execution_count": 17,
     "metadata": {},
     "output_type": "execute_result"
    }
   ],
   "source": [
    "N = 8\n",
    "n = np.arange(0, 8, 1)\n",
    "A = 8\n",
    "x = (A/4) * np.cos ((3*n+1)/4 * np.pi)\n",
    "np.around(x, 4)"
   ]
  },
  {
   "cell_type": "code",
   "execution_count": 18,
   "id": "2719a5fa",
   "metadata": {},
   "outputs": [
    {
     "data": {
      "text/plain": [
       "array([-0.    -0.j    , -0.    -0.j    , -0.    -0.j    ,  5.6569+5.6569j,\n",
       "        0.    -0.j    ,  5.6569-5.6569j, -0.    +0.j    , -0.    +0.j    ])"
      ]
     },
     "execution_count": 18,
     "metadata": {},
     "output_type": "execute_result"
    }
   ],
   "source": [
    "X = fft(x)\n",
    "np.around(X, 4)"
   ]
  }
 ],
 "metadata": {
  "kernelspec": {
   "display_name": "Python 3 (ipykernel)",
   "language": "python",
   "name": "python3"
  },
  "language_info": {
   "codemirror_mode": {
    "name": "ipython",
    "version": 3
   },
   "file_extension": ".py",
   "mimetype": "text/x-python",
   "name": "python",
   "nbconvert_exporter": "python",
   "pygments_lexer": "ipython3",
   "version": "3.11.3"
  }
 },
 "nbformat": 4,
 "nbformat_minor": 5
}
