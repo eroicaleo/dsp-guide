{
 "cells": [
  {
   "cell_type": "code",
   "execution_count": 4,
   "id": "e4dd23a8",
   "metadata": {},
   "outputs": [],
   "source": [
    "from scipy.fft import fft, fftfreq, ifft, fftshift\n",
    "import numpy as np\n",
    "import matplotlib.pyplot as plt"
   ]
  },
  {
   "cell_type": "code",
   "execution_count": null,
   "id": "04619c7b",
   "metadata": {},
   "outputs": [],
   "source": [
    "fs = 8000  # Sampling rate in Hz\n",
    "n = np.arange(0, 8, 1)  # Time vector\n",
    "ts = 1.0 / fs\n",
    "# Signal with 1000 Hz and 2000 Hz components\n",
    "x = 1.0*np.sin(2*np.pi*1000*n*ts) + 0.5*np.sin(2*np.pi*2000*n*ts + (3/4)*np.pi)"
   ]
  },
  {
   "cell_type": "code",
   "execution_count": null,
   "id": "4da59832",
   "metadata": {},
   "outputs": [],
   "source": [
    "x"
   ]
  },
  {
   "cell_type": "code",
   "execution_count": null,
   "id": "99ddc550",
   "metadata": {},
   "outputs": [],
   "source": [
    "X = fft(x)"
   ]
  },
  {
   "cell_type": "code",
   "execution_count": null,
   "id": "6a158d66",
   "metadata": {},
   "outputs": [],
   "source": [
    "np.around(X,4)"
   ]
  },
  {
   "cell_type": "code",
   "execution_count": null,
   "id": "3c73e9b1",
   "metadata": {},
   "outputs": [],
   "source": [
    "N = 8\n",
    "Y = np.array([0+0*1j]*N)\n",
    "for m in range(N):\n",
    "    Y[m] = 0 + 0*1j\n",
    "    for n in range(N):\n",
    "        Y[m] = Y[m] + x[n] * (np.cos(-2*np.pi*n*m/N) + 1j*np.sin(-2*np.pi*n*m/N))"
   ]
  },
  {
   "cell_type": "code",
   "execution_count": null,
   "id": "c6dfd60c",
   "metadata": {},
   "outputs": [],
   "source": [
    "np.around(Y,4)"
   ]
  },
  {
   "cell_type": "code",
   "execution_count": null,
   "id": "68058eca",
   "metadata": {},
   "outputs": [],
   "source": [
    "np.allclose(X, Y)"
   ]
  },
  {
   "cell_type": "code",
   "execution_count": null,
   "id": "c38c058e",
   "metadata": {},
   "outputs": [],
   "source": [
    "x_1 = np.roll(x, -3)\n",
    "x_1"
   ]
  },
  {
   "cell_type": "code",
   "execution_count": null,
   "id": "4811bebf",
   "metadata": {},
   "outputs": [],
   "source": [
    "X_1 = fft(x_1)\n",
    "np.around(X_1,4)"
   ]
  },
  {
   "cell_type": "code",
   "execution_count": null,
   "id": "6d8333d7",
   "metadata": {},
   "outputs": [],
   "source": [
    "X_2 = np.array([0+0*1j]*N)\n",
    "for m in range(N):\n",
    "    X_2[m] = np.exp(1j * 2 * np.pi * 3 * m / N) * X[m]\n",
    "np.around(X_2,4)"
   ]
  },
  {
   "cell_type": "code",
   "execution_count": null,
   "id": "de479fa8",
   "metadata": {},
   "outputs": [],
   "source": [
    "np.allclose(X_1, X_2)"
   ]
  },
  {
   "cell_type": "code",
   "execution_count": null,
   "id": "ee791ba9",
   "metadata": {},
   "outputs": [],
   "source": [
    "x_ifft = ifft(X)\n",
    "np.around(x_ifft,4)"
   ]
  },
  {
   "cell_type": "code",
   "execution_count": null,
   "id": "4b6bb9ca",
   "metadata": {},
   "outputs": [],
   "source": [
    "Y_inv = np.array([0+0*1j]*N)\n",
    "for m in range(N):\n",
    "    Y_inv[m] = 0 + 0*1j\n",
    "    for n in range(N):\n",
    "        # Y_inv[m] = Y_inv[m] + (1 / N) * X[n] * (np.cos(2*np.pi*n*m/N) + 1j*np.sin(2*np.pi*n*m/N))\n",
    "        Y_inv[m] = Y_inv[m] + (1 / N) * X[n] * np.exp(2*np.pi*n*m/N*1j)\n",
    "np.around(Y_inv, 4)"
   ]
  },
  {
   "cell_type": "code",
   "execution_count": null,
   "id": "dea08670",
   "metadata": {},
   "outputs": [],
   "source": [
    "np.allclose(x_ifft, Y_inv)"
   ]
  },
  {
   "cell_type": "markdown",
   "id": "62508b70",
   "metadata": {},
   "source": [
    "## 3.8 DFT leakage"
   ]
  },
  {
   "cell_type": "code",
   "execution_count": null,
   "id": "157db9b1",
   "metadata": {},
   "outputs": [],
   "source": [
    "# exactly 3 periods over 64 samples\n",
    "N  = 64\n",
    "n  = np.arange(0, N, 1)\n",
    "fs = 1000 * 64  # Sampling rate in Hz\n",
    "fo = 1000 * 3   # 3 full cycles for 64 samples\n",
    "ts = 1.0 / fs\n",
    "x  = 1.0*np.sin(2*np.pi*fo*n*ts)\n",
    "\n",
    "plt.xlabel('n');\n",
    "plt.ylabel('x[n]');\n",
    "plt.title(r'$x[n] = \\sin (2\\pi f_o n t_s)$');\n",
    "plt.stem(n, x);"
   ]
  },
  {
   "cell_type": "code",
   "execution_count": null,
   "id": "5a30f07b",
   "metadata": {},
   "outputs": [],
   "source": [
    "X = fft(x)\n",
    "plt.xlabel('m');\n",
    "plt.ylabel(r'$|X[m]|$');\n",
    "plt.title(r'Plot of DT signal $|X(m)|$');\n",
    "X_m = np.absolute(X)\n",
    "plt.stem(n, X_m)"
   ]
  },
  {
   "cell_type": "code",
   "execution_count": null,
   "id": "c25a78a8",
   "metadata": {},
   "outputs": [],
   "source": [
    "k = 28.6\n",
    "k = 3.4\n",
    "k = 16.4\n",
    "fo = 1000 * k   # 3.4 full cycles for 64 samples\n",
    "x  = 1.0*np.sin(2*np.pi*fo*n*ts)\n",
    "\n",
    "plt.xlabel('n');\n",
    "plt.ylabel('x[n]');\n",
    "plt.title(r'$x[n] = \\sin (2\\pi f_o n t_s)$');\n",
    "plt.stem(n, x);"
   ]
  },
  {
   "cell_type": "code",
   "execution_count": null,
   "id": "def98a58",
   "metadata": {},
   "outputs": [],
   "source": [
    "X = fft(x)\n",
    "plt.xlabel('m');\n",
    "plt.ylabel(r'$|X[m]|$');\n",
    "plt.title(r'Plot of signal $|X(m)|$');\n",
    "X_m = np.absolute(X)\n",
    "plt.stem(n, X_m)\n",
    "\n",
    "X_sinc = np.zeros_like(X_m)\n",
    "for m in range(N):\n",
    "    if m >= N // 2:\n",
    "        X_sinc[m] = np.absolute(N / 2 * np.sinc((k - (N - m))))\n",
    "    else:\n",
    "        X_sinc[m] = np.absolute(N / 2 * np.sinc((k - m)))\n",
    "\n",
    "plt.stem(n, X_sinc, 'r')\n"
   ]
  },
  {
   "cell_type": "markdown",
   "id": "192c3328",
   "metadata": {},
   "source": [
    "## 3.9 Windows"
   ]
  },
  {
   "cell_type": "code",
   "execution_count": 12,
   "id": "cc7ce782-5e15-4d53-93fe-353e397c868a",
   "metadata": {},
   "outputs": [
    {
     "name": "stderr",
     "output_type": "stream",
     "text": [
      "/Users/yg943079/mypy/lib/python3.13/site-packages/matplotlib/cbook.py:1719: ComplexWarning: Casting complex values to real discards the imaginary part\n",
      "  return math.isfinite(val)\n",
      "/Users/yg943079/mypy/lib/python3.13/site-packages/matplotlib/cbook.py:1355: ComplexWarning: Casting complex values to real discards the imaginary part\n",
      "  return np.asarray(x, float)\n"
     ]
    },
    {
     "data": {
      "image/png": "[encoded data removed]",
      "text/plain": [
       "<Figure size 640x480 with 1 Axes>"
      ]
     },
     "metadata": {},
     "output_type": "display_data"
    }
   ],
   "source": [
    "x = np.arange(-3, 3, 0.01)\n",
    "y = np.zeros(len(x))\n",
    "y[200:400] = 1\n",
    "yShift = np.fft.fftshift(y)\n",
    "fftyShift = np.fft.fft(yShift)\n",
    "ffty = np.fft.fftshift(fftyShift)\n",
    "\n",
    "plt.plot(ffty)\n",
    "plt.show()"
   ]
  },
  {
   "cell_type": "code",
   "execution_count": 11,
   "id": "11221860-4e78-456f-a516-c02598ef5bb6",
   "metadata": {},
   "outputs": [
    {
     "data": {
      "image/png": "[encoded data removed]",
      "text/plain": [
       "<Figure size 640x480 with 1 Axes>"
      ]
     },
     "metadata": {},
     "output_type": "display_data"
    },
    {
     "name": "stdout",
     "output_type": "stream",
     "text": [
      "[1. 1. 1. 1. 1. 1. 1. 1. 1. 1. 1. 1. 1. 1. 1. 1.]\n"
     ]
    },
    {
     "data": {
      "text/plain": [
       "array([16.-0.j,  0.+0.j,  0.-0.j,  0.+0.j,  0.+0.j,  0.+0.j,  0.+0.j,\n",
       "        0.+0.j,  0.-0.j,  0.-0.j,  0.-0.j,  0.-0.j,  0.-0.j,  0.-0.j,\n",
       "        0.+0.j,  0.-0.j])"
      ]
     },
     "execution_count": 11,
     "metadata": {},
     "output_type": "execute_result"
    }
   ],
   "source": [
    "N = 16\n",
    "window = 1 + np.zeros(N)\n",
    "plt.figure()\n",
    "A = fft(window)\n",
    "mag = np.abs(A)\n",
    "# freq = np.linspace(-0.5, 0.5, len(A))\n",
    "# with np.errstate(divide='ignore', invalid='ignore'):\n",
    "#    response = 20 * np.log10(mag)\n",
    "# response = np.clip(response, -100, 100)\n",
    "plt.plot(mag)\n",
    "plt.title(\"Frequency response of the square window\")\n",
    "plt.ylabel(\"Magnitude [dB]\")\n",
    "plt.xlabel(\"Normalized frequency [cycles per sample]\")\n",
    "plt.axis('tight')\n",
    "# plt.xlim([0, 0.12])\n",
    "# plt.ylim([-60, 5])\n",
    "plt.show()\n",
    "print(window)\n",
    "np.around(A, 4)"
   ]
  },
  {
   "cell_type": "code",
   "execution_count": null,
   "id": "96fade7d",
   "metadata": {},
   "outputs": [],
   "source": [
    "# https://numpy.org/doc/stable/reference/generated/numpy.hanning.html\n",
    "N = 64\n",
    "\n",
    "import matplotlib.pyplot as plt\n",
    "from numpy.fft import fft, fftshift\n",
    "window = np.hanning(N)\n",
    "plt.plot(window)\n",
    "plt.title(\"Hann window\")\n",
    "plt.ylabel(\"Amplitude\")\n",
    "plt.xlabel(\"Sample\")\n",
    "plt.show()\n",
    "\n",
    "print(window)\n",
    "print(f'The window size is: {window.size}')"
   ]
  },
  {
   "cell_type": "code",
   "execution_count": null,
   "id": "30cabf0a",
   "metadata": {},
   "outputs": [],
   "source": [
    "plt.figure()\n",
    "A = fft(window, 2048) / (N / 2)\n",
    "mag = np.abs(fftshift(A))\n",
    "freq = np.linspace(-0.5, 0.5, len(A))\n",
    "with np.errstate(divide='ignore', invalid='ignore'):\n",
    "    response = 20 * np.log10(mag)\n",
    "response = np.clip(response, -100, 100)\n",
    "plt.plot(freq, response)\n",
    "plt.title(\"Frequency response of the Hann window\")\n",
    "plt.ylabel(\"Magnitude [dB]\")\n",
    "plt.xlabel(\"Normalized frequency [cycles per sample]\")\n",
    "plt.axis('tight')\n",
    "plt.xlim([0, 0.12])\n",
    "plt.ylim([-60, 5])\n",
    "plt.show()"
   ]
  },
  {
   "cell_type": "code",
   "execution_count": null,
   "id": "ee6ecd4b",
   "metadata": {},
   "outputs": [],
   "source": [
    "window = np.hamming(N)\n",
    "plt.plot(window)\n",
    "plt.title(\"Hamming window\")\n",
    "plt.ylabel(\"Amplitude\")\n",
    "plt.xlabel(\"Sample\")\n",
    "plt.show()\n",
    "plt.figure()\n",
    "A = fft(window, 2048) / (N/2)\n",
    "mag = np.abs(fftshift(A))\n",
    "freq = np.linspace(-0.5, 0.5, len(A))\n",
    "response = 20 * np.log10(mag)\n",
    "response = np.clip(response, -100, 100)\n",
    "plt.plot(freq, response)\n",
    "plt.title(\"Frequency response of Hamming window\")\n",
    "plt.ylabel(\"Magnitude [dB]\")\n",
    "plt.xlabel(\"Normalized frequency [cycles per sample]\")\n",
    "plt.axis('tight')\n",
    "plt.xlim([0, 0.12])\n",
    "plt.ylim([-60, 5])\n",
    "plt.show()"
   ]
  },
  {
   "cell_type": "code",
   "execution_count": null,
   "id": "9da7809e",
   "metadata": {},
   "outputs": [],
   "source": []
  }
 ],
 "metadata": {
  "kernelspec": {
   "display_name": "Python 3 (ipykernel)",
   "language": "python",
   "name": "python3"
  },
  "language_info": {
   "codemirror_mode": {
    "name": "ipython",
    "version": 3
   },
   "file_extension": ".py",
   "mimetype": "text/x-python",
   "name": "python",
   "nbconvert_exporter": "python",
   "pygments_lexer": "ipython3",
   "version": "3.13.7"
  }
 },
 "nbformat": 4,
 "nbformat_minor": 5
}
