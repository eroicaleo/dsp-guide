{
 "cells": [
  {
   "cell_type": "code",
   "execution_count": 16,
   "id": "e4dd23a8",
   "metadata": {},
   "outputs": [],
   "source": [
    "from scipy.fft import fft, fftfreq, ifft\n",
    "import numpy as np"
   ]
  },
  {
   "cell_type": "code",
   "execution_count": 2,
   "id": "04619c7b",
   "metadata": {},
   "outputs": [],
   "source": [
    "fs = 8000  # Sampling rate in Hz\n",
    "n = np.arange(0, 8, 1)  # Time vector\n",
    "ts = 1.0 / fs\n",
    "# Signal with 1000 Hz and 2000 Hz components\n",
    "x = 1.0*np.sin(2*np.pi*1000*n*ts) + 0.5*np.sin(2*np.pi*2000*n*ts + (3/4)*np.pi)"
   ]
  },
  {
   "cell_type": "code",
   "execution_count": 3,
   "id": "4da59832",
   "metadata": {},
   "outputs": [
    {
     "data": {
      "text/plain": [
       "array([ 0.35355339,  0.35355339,  0.64644661,  1.06066017,  0.35355339,\n",
       "       -1.06066017, -1.35355339, -0.35355339])"
      ]
     },
     "execution_count": 3,
     "metadata": {},
     "output_type": "execute_result"
    }
   ],
   "source": [
    "x"
   ]
  },
  {
   "cell_type": "code",
   "execution_count": 8,
   "id": "99ddc550",
   "metadata": {},
   "outputs": [],
   "source": [
    "X = fft(x)"
   ]
  },
  {
   "cell_type": "code",
   "execution_count": 9,
   "id": "6a158d66",
   "metadata": {},
   "outputs": [
    {
     "data": {
      "text/plain": [
       "array([ 0.    -0.j    , -0.    -4.j    ,  1.4142+1.4142j,  0.    +0.j    ,\n",
       "       -0.    -0.j    ,  0.    -0.j    ,  1.4142-1.4142j, -0.    +4.j    ])"
      ]
     },
     "execution_count": 9,
     "metadata": {},
     "output_type": "execute_result"
    }
   ],
   "source": [
    "np.around(X,4)"
   ]
  },
  {
   "cell_type": "code",
   "execution_count": 10,
   "id": "3c73e9b1",
   "metadata": {},
   "outputs": [],
   "source": [
    "N = 8\n",
    "Y = np.array([0+0*1j]*N)\n",
    "for m in range(N):\n",
    "    Y[m] = 0 + 0*1j\n",
    "    for n in range(N):\n",
    "        Y[m] = Y[m] + x[n] * (np.cos(-2*np.pi*n*m/N) + 1j*np.sin(-2*np.pi*n*m/N))"
   ]
  },
  {
   "cell_type": "code",
   "execution_count": 11,
   "id": "c6dfd60c",
   "metadata": {},
   "outputs": [
    {
     "data": {
      "text/plain": [
       "array([ 0.    +0.j    , -0.    -4.j    ,  1.4142+1.4142j,  0.    -0.j    ,\n",
       "       -0.    -0.j    ,  0.    +0.j    ,  1.4142-1.4142j, -0.    +4.j    ])"
      ]
     },
     "execution_count": 11,
     "metadata": {},
     "output_type": "execute_result"
    }
   ],
   "source": [
    "np.around(Y,4)"
   ]
  },
  {
   "cell_type": "code",
   "execution_count": null,
   "id": "68058eca",
   "metadata": {},
   "outputs": [],
   "source": [
    "np.allclose(X, Y)"
   ]
  },
  {
   "cell_type": "code",
   "execution_count": 4,
   "id": "0bd6cc23",
   "metadata": {},
   "outputs": [
    {
     "data": {
      "text/plain": [
       "array([ 1.06066017,  0.35355339, -1.06066017, -1.35355339, -0.35355339,\n",
       "        0.35355339,  0.35355339,  0.64644661])"
      ]
     },
     "execution_count": 4,
     "metadata": {},
     "output_type": "execute_result"
    }
   ],
   "source": [
    "x_1 = np.roll(x, -3)\n",
    "x_1"
   ]
  },
  {
   "cell_type": "code",
   "execution_count": 7,
   "id": "3028d674",
   "metadata": {},
   "outputs": [
    {
     "data": {
      "text/plain": [
       "array([ 0.    -0.j    ,  2.8284+2.8284j,  1.4142-1.4142j, -0.    +0.j    ,\n",
       "        0.    -0.j    , -0.    -0.j    ,  1.4142+1.4142j,  2.8284-2.8284j])"
      ]
     },
     "execution_count": 7,
     "metadata": {},
     "output_type": "execute_result"
    }
   ],
   "source": [
    "X_1 = fft(x_1)\n",
    "np.around(X_1,4)"
   ]
  },
  {
   "cell_type": "code",
   "execution_count": 14,
   "id": "07e07866",
   "metadata": {},
   "outputs": [
    {
     "data": {
      "text/plain": [
       "array([ 0.    +0.j    ,  2.8284+2.8284j,  1.4142-1.4142j, -0.    +0.j    ,\n",
       "        0.    -0.j    , -0.    -0.j    ,  1.4142+1.4142j,  2.8284-2.8284j])"
      ]
     },
     "execution_count": 14,
     "metadata": {},
     "output_type": "execute_result"
    }
   ],
   "source": [
    "X_2 = np.array([0+0*1j]*N)\n",
    "for m in range(N):\n",
    "    X_2[m] = np.exp(1j * 2 * np.pi * 3 * m / N) * X[m]\n",
    "np.around(X_2,4)"
   ]
  },
  {
   "cell_type": "code",
   "execution_count": 15,
   "id": "da2cc552",
   "metadata": {},
   "outputs": [
    {
     "data": {
      "text/plain": [
       "True"
      ]
     },
     "execution_count": 15,
     "metadata": {},
     "output_type": "execute_result"
    }
   ],
   "source": [
    "np.allclose(X_1, X_2)"
   ]
  },
  {
   "cell_type": "code",
   "execution_count": 17,
   "id": "616b1b69",
   "metadata": {},
   "outputs": [
    {
     "data": {
      "text/plain": [
       "array([ 0.3536+0.j,  0.3536+0.j,  0.6464+0.j,  1.0607+0.j,  0.3536+0.j,\n",
       "       -1.0607+0.j, -1.3536-0.j, -0.3536+0.j])"
      ]
     },
     "execution_count": 17,
     "metadata": {},
     "output_type": "execute_result"
    }
   ],
   "source": [
    "x_ifft = ifft(X)\n",
    "np.around(x_ifft,4)"
   ]
  },
  {
   "cell_type": "code",
   "execution_count": 18,
   "id": "ee3c71b8",
   "metadata": {},
   "outputs": [
    {
     "data": {
      "text/plain": [
       "array([ 0.3536+0.j,  0.3536-0.j,  0.6464-0.j,  1.0607-0.j,  0.3536-0.j,\n",
       "       -1.0607+0.j, -1.3536+0.j, -0.3536+0.j])"
      ]
     },
     "execution_count": 18,
     "metadata": {},
     "output_type": "execute_result"
    }
   ],
   "source": [
    "Y_inv = np.array([0+0*1j]*N)\n",
    "for m in range(N):\n",
    "    Y_inv[m] = 0 + 0*1j\n",
    "    for n in range(N):\n",
    "        Y_inv[m] = Y_inv[m] + (1 / N) * X[n] * (np.cos(2*np.pi*n*m/N) + 1j*np.sin(2*np.pi*n*m/N))\n",
    "np.around(Y_inv, 4)"
   ]
  },
  {
   "cell_type": "code",
   "execution_count": 19,
   "id": "2a0c8237",
   "metadata": {},
   "outputs": [
    {
     "data": {
      "text/plain": [
       "True"
      ]
     },
     "execution_count": 19,
     "metadata": {},
     "output_type": "execute_result"
    }
   ],
   "source": [
    "np.allclose(x_ifft, Y_inv)"
   ]
  },
  {
   "cell_type": "code",
   "execution_count": null,
   "id": "82996073",
   "metadata": {},
   "outputs": [],
   "source": []
  }
 ],
 "metadata": {
  "kernelspec": {
   "display_name": "Python 3 (ipykernel)",
   "language": "python",
   "name": "python3"
  },
  "language_info": {
   "codemirror_mode": {
    "name": "ipython",
    "version": 3
   },
   "file_extension": ".py",
   "mimetype": "text/x-python",
   "name": "python",
   "nbconvert_exporter": "python",
   "pygments_lexer": "ipython3",
   "version": "3.11.3"
  }
 },
 "nbformat": 4,
 "nbformat_minor": 5
}
